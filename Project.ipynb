{
 "cells": [
  {
   "cell_type": "markdown",
   "metadata": {},
   "source": [
    "## Programming of Data Analysis Project 1\n",
    "\n",
    "**Francesco Troja**\n",
    "\n",
    "***"
   ]
  },
  {
   "cell_type": "markdown",
   "metadata": {},
   "source": [
    "Project 1\n",
    "\n",
    ">Create a data set by simulating a real-world phenomenon of your choosing. Then rather than collect data related to the phenomenon, you should model and synthesise such data using Python.We suggest you use the numpy.random package for this purpose. Specifically, in this project you should:\n",
    ">- Choose a real-world phenomenon that can be measured and for which you could collect at least one-hundred data points across at least four different variables.\n",
    ">- Investigate the types of variables involved, their likely distributions, and their relationships with each other.\n",
    ">- Synthesise/simulate a data set as closely matching their properties as possible.\n",
    ">- Detail your research and implement the simulation in a Jupyter notebook – the data set itself can simply be displayed in an output cell within the notebook.\n"
   ]
  },
  {
   "cell_type": "markdown",
   "metadata": {},
   "source": [
    "#### Installations"
   ]
  },
  {
   "cell_type": "markdown",
   "metadata": {},
   "source": [
    "To execute this project, several Python libraries have been utilized. These libraries were chosen for their specific functionalities and capabilities, tailored to the requirements of the project:\n",
    "1. `padas`: The library's powerful data structures, including DataFrames and Series, allowed for efficient organization and structuring of data, making it easy to perform various data operations, such as filtering, grouping, and aggregating.Pandas offered a wide range of functions for data cleaning and preparation, making it ideal for addressing real-world data challenges[1]."
   ]
  },
  {
   "cell_type": "code",
   "execution_count": 1,
   "metadata": {},
   "outputs": [],
   "source": [
    "import pandas as pd"
   ]
  },
  {
   "cell_type": "markdown",
   "metadata": {},
   "source": [
    "#### Importing the Dataset"
   ]
  },
  {
   "cell_type": "markdown",
   "metadata": {},
   "source": [
    "The provided dataset offers an extensive and detailed record of property house prices in Ireland, spanning the period from 2010 to 2023. It plays a significant role in capturing essential information about the real estate market in Ireland. This dataset provides valuable insights into the dynamics of property prices, trends, and fluctuations over a thirteen-year period. The housing market is a crucial element of a country's economy, and property prices reflect not only home values but also broader economic conditions, as well as the forces of supply and demand at play.\n",
    "\n",
    "The dataset includes a wide range of variables, including the date of sale, property location, property type, and the sale price. These variables offer a rich source of information for analysis, allowing for the examination of various aspects of the property market, such as regional variations, property types, and the impact of economic events on house prices."
   ]
  },
  {
   "cell_type": "markdown",
   "metadata": {},
   "source": [
    "The dataset used was was discovered on the [Kaggle](https://www.kaggle.com/datasets/raphaelmapp/ireland-house-prices-2010-to-2023/code) website.\n",
    "\n",
    "In Python, working with CSV files often involves using the `read_csv()` function from the Pandas library. This function acts as a crucial tool, facilitating the smooth import of CSV files into a Pandas DataFrame. The DataFrame represents the data in a structured format, enabling easy manipulation and analysis. The DataFrame format, offered by Pandas, facilitates straightforward data exploration, manipulation, and analysis. In order to import the csv file, the file path is passed as parameter. This file path specifies the location of the CSV file you want to import. The read_csv() function then reads the data from that file and converts it into a Pandas DataFrame[2]."
   ]
  },
  {
   "cell_type": "code",
   "execution_count": 2,
   "metadata": {},
   "outputs": [
    {
     "name": "stdout",
     "output_type": "stream",
     "text": [
      "The dataset used is:\n",
      "               Date                                            Address  \\\n",
      "0       28/11/2018             ABBEY GLEN, OFF POTTERY RD, CABINTEELY   \n",
      "1       15/12/2016                   WALFORD, SHREWSBURY RD, DUBLIN 4   \n",
      "2       29/03/2013                 Walford, Shrewsbury Road, Dublin 4   \n",
      "3       19/05/2021                     Uimhi a Naoi, B�tha Sri�sbaire   \n",
      "4       20/11/2019  Property at Castletown Demesne, Carrick-on-Sui...   \n",
      "...            ...                                                ...   \n",
      "597523         NaN                                                NaN   \n",
      "597524         NaN                                                NaN   \n",
      "597525         NaN                                                NaN   \n",
      "597526         NaN                                                NaN   \n",
      "597527         NaN                                                NaN   \n",
      "\n",
      "          County       Price  Full_Market_Price  VAT_Exclusive  \\\n",
      "0         Dublin  14800000.0                0.0            0.0   \n",
      "1         Dublin  14250000.0                0.0            0.0   \n",
      "2         Dublin  14000000.0                0.0            0.0   \n",
      "3         Dublin  13250000.0                0.0            0.0   \n",
      "4       Kilkenny  12600000.0                0.0            0.0   \n",
      "...          ...         ...                ...            ...   \n",
      "597523       NaN         NaN                NaN            NaN   \n",
      "597524       NaN         NaN                NaN            NaN   \n",
      "597525       NaN         NaN                NaN            NaN   \n",
      "597526       NaN         NaN                NaN            NaN   \n",
      "597527       NaN         NaN                NaN            NaN   \n",
      "\n",
      "                      Description_of_Property Property_Size_Description  \n",
      "0       Second-Hand Dwelling house /Apartment            No Description  \n",
      "1       Second-Hand Dwelling house /Apartment            No Description  \n",
      "2       Second-Hand Dwelling house /Apartment            No Description  \n",
      "3       Second-Hand Dwelling house /Apartment            No Description  \n",
      "4       Second-Hand Dwelling house /Apartment            No Description  \n",
      "...                                       ...                       ...  \n",
      "597523                                    NaN                       NaN  \n",
      "597524                                    NaN                       NaN  \n",
      "597525                                    NaN                       NaN  \n",
      "597526                                    NaN                       NaN  \n",
      "597527                                    NaN                       NaN  \n",
      "\n",
      "[597528 rows x 8 columns]\n"
     ]
    }
   ],
   "source": [
    "\n",
    "df = pd.read_csv(\"Housing_Data_Jan2010_to_May2023_Cleaned.csv\")\n",
    "\n",
    "print (f'The dataset used is:\\n {df}')"
   ]
  },
  {
   "cell_type": "markdown",
   "metadata": {},
   "source": [
    "#### Data Exploration"
   ]
  },
  {
   "cell_type": "markdown",
   "metadata": {},
   "source": [
    "Let's investigate the dataset's  structure and characteristics. Statistical analysis is a method for uncovering patterns and correlations in data. The goal is to provide a descriptive overview of the dataset and its variables. Let's have a look at the dataset's contents:\n",
    "\n",
    "- The Pandas `head()` method is used to return the top n (default is 5) rows from a dataset.\n",
    "- The Pandas `tail()` method is used to return the bottom n (default is 5) rows from a dataset[3].\n"
   ]
  },
  {
   "cell_type": "code",
   "execution_count": 3,
   "metadata": {},
   "outputs": [
    {
     "name": "stdout",
     "output_type": "stream",
     "text": [
      "the first 5 rows of the dataset:\n",
      "\n"
     ]
    },
    {
     "data": {
      "text/html": [
       "<div>\n",
       "<style scoped>\n",
       "    .dataframe tbody tr th:only-of-type {\n",
       "        vertical-align: middle;\n",
       "    }\n",
       "\n",
       "    .dataframe tbody tr th {\n",
       "        vertical-align: top;\n",
       "    }\n",
       "\n",
       "    .dataframe thead th {\n",
       "        text-align: right;\n",
       "    }\n",
       "</style>\n",
       "<table border=\"1\" class=\"dataframe\">\n",
       "  <thead>\n",
       "    <tr style=\"text-align: right;\">\n",
       "      <th></th>\n",
       "      <th>Date</th>\n",
       "      <th>Address</th>\n",
       "      <th>County</th>\n",
       "      <th>Price</th>\n",
       "      <th>Full_Market_Price</th>\n",
       "      <th>VAT_Exclusive</th>\n",
       "      <th>Description_of_Property</th>\n",
       "      <th>Property_Size_Description</th>\n",
       "    </tr>\n",
       "  </thead>\n",
       "  <tbody>\n",
       "    <tr>\n",
       "      <th>0</th>\n",
       "      <td>28/11/2018</td>\n",
       "      <td>ABBEY GLEN, OFF POTTERY RD, CABINTEELY</td>\n",
       "      <td>Dublin</td>\n",
       "      <td>14800000.0</td>\n",
       "      <td>0.0</td>\n",
       "      <td>0.0</td>\n",
       "      <td>Second-Hand Dwelling house /Apartment</td>\n",
       "      <td>No Description</td>\n",
       "    </tr>\n",
       "    <tr>\n",
       "      <th>1</th>\n",
       "      <td>15/12/2016</td>\n",
       "      <td>WALFORD, SHREWSBURY RD, DUBLIN 4</td>\n",
       "      <td>Dublin</td>\n",
       "      <td>14250000.0</td>\n",
       "      <td>0.0</td>\n",
       "      <td>0.0</td>\n",
       "      <td>Second-Hand Dwelling house /Apartment</td>\n",
       "      <td>No Description</td>\n",
       "    </tr>\n",
       "    <tr>\n",
       "      <th>2</th>\n",
       "      <td>29/03/2013</td>\n",
       "      <td>Walford, Shrewsbury Road, Dublin 4</td>\n",
       "      <td>Dublin</td>\n",
       "      <td>14000000.0</td>\n",
       "      <td>0.0</td>\n",
       "      <td>0.0</td>\n",
       "      <td>Second-Hand Dwelling house /Apartment</td>\n",
       "      <td>No Description</td>\n",
       "    </tr>\n",
       "    <tr>\n",
       "      <th>3</th>\n",
       "      <td>19/05/2021</td>\n",
       "      <td>Uimhi a Naoi, B�tha Sri�sbaire</td>\n",
       "      <td>Dublin</td>\n",
       "      <td>13250000.0</td>\n",
       "      <td>0.0</td>\n",
       "      <td>0.0</td>\n",
       "      <td>Second-Hand Dwelling house /Apartment</td>\n",
       "      <td>No Description</td>\n",
       "    </tr>\n",
       "    <tr>\n",
       "      <th>4</th>\n",
       "      <td>20/11/2019</td>\n",
       "      <td>Property at Castletown Demesne, Carrick-on-Sui...</td>\n",
       "      <td>Kilkenny</td>\n",
       "      <td>12600000.0</td>\n",
       "      <td>0.0</td>\n",
       "      <td>0.0</td>\n",
       "      <td>Second-Hand Dwelling house /Apartment</td>\n",
       "      <td>No Description</td>\n",
       "    </tr>\n",
       "  </tbody>\n",
       "</table>\n",
       "</div>"
      ],
      "text/plain": [
       "         Date                                            Address    County  \\\n",
       "0  28/11/2018             ABBEY GLEN, OFF POTTERY RD, CABINTEELY    Dublin   \n",
       "1  15/12/2016                   WALFORD, SHREWSBURY RD, DUBLIN 4    Dublin   \n",
       "2  29/03/2013                 Walford, Shrewsbury Road, Dublin 4    Dublin   \n",
       "3  19/05/2021                     Uimhi a Naoi, B�tha Sri�sbaire    Dublin   \n",
       "4  20/11/2019  Property at Castletown Demesne, Carrick-on-Sui...  Kilkenny   \n",
       "\n",
       "        Price  Full_Market_Price  VAT_Exclusive  \\\n",
       "0  14800000.0                0.0            0.0   \n",
       "1  14250000.0                0.0            0.0   \n",
       "2  14000000.0                0.0            0.0   \n",
       "3  13250000.0                0.0            0.0   \n",
       "4  12600000.0                0.0            0.0   \n",
       "\n",
       "                 Description_of_Property Property_Size_Description  \n",
       "0  Second-Hand Dwelling house /Apartment            No Description  \n",
       "1  Second-Hand Dwelling house /Apartment            No Description  \n",
       "2  Second-Hand Dwelling house /Apartment            No Description  \n",
       "3  Second-Hand Dwelling house /Apartment            No Description  \n",
       "4  Second-Hand Dwelling house /Apartment            No Description  "
      ]
     },
     "execution_count": 3,
     "metadata": {},
     "output_type": "execute_result"
    }
   ],
   "source": [
    "print(\"the first 5 rows of the dataset:\\n\")\n",
    "df.head()\n"
   ]
  },
  {
   "cell_type": "code",
   "execution_count": 4,
   "metadata": {},
   "outputs": [
    {
     "name": "stdout",
     "output_type": "stream",
     "text": [
      "the last 5 rows of the dataset:\n",
      "\n"
     ]
    },
    {
     "data": {
      "text/html": [
       "<div>\n",
       "<style scoped>\n",
       "    .dataframe tbody tr th:only-of-type {\n",
       "        vertical-align: middle;\n",
       "    }\n",
       "\n",
       "    .dataframe tbody tr th {\n",
       "        vertical-align: top;\n",
       "    }\n",
       "\n",
       "    .dataframe thead th {\n",
       "        text-align: right;\n",
       "    }\n",
       "</style>\n",
       "<table border=\"1\" class=\"dataframe\">\n",
       "  <thead>\n",
       "    <tr style=\"text-align: right;\">\n",
       "      <th></th>\n",
       "      <th>Date</th>\n",
       "      <th>Address</th>\n",
       "      <th>County</th>\n",
       "      <th>Price</th>\n",
       "      <th>Full_Market_Price</th>\n",
       "      <th>VAT_Exclusive</th>\n",
       "      <th>Description_of_Property</th>\n",
       "      <th>Property_Size_Description</th>\n",
       "    </tr>\n",
       "  </thead>\n",
       "  <tbody>\n",
       "    <tr>\n",
       "      <th>597523</th>\n",
       "      <td>NaN</td>\n",
       "      <td>NaN</td>\n",
       "      <td>NaN</td>\n",
       "      <td>NaN</td>\n",
       "      <td>NaN</td>\n",
       "      <td>NaN</td>\n",
       "      <td>NaN</td>\n",
       "      <td>NaN</td>\n",
       "    </tr>\n",
       "    <tr>\n",
       "      <th>597524</th>\n",
       "      <td>NaN</td>\n",
       "      <td>NaN</td>\n",
       "      <td>NaN</td>\n",
       "      <td>NaN</td>\n",
       "      <td>NaN</td>\n",
       "      <td>NaN</td>\n",
       "      <td>NaN</td>\n",
       "      <td>NaN</td>\n",
       "    </tr>\n",
       "    <tr>\n",
       "      <th>597525</th>\n",
       "      <td>NaN</td>\n",
       "      <td>NaN</td>\n",
       "      <td>NaN</td>\n",
       "      <td>NaN</td>\n",
       "      <td>NaN</td>\n",
       "      <td>NaN</td>\n",
       "      <td>NaN</td>\n",
       "      <td>NaN</td>\n",
       "    </tr>\n",
       "    <tr>\n",
       "      <th>597526</th>\n",
       "      <td>NaN</td>\n",
       "      <td>NaN</td>\n",
       "      <td>NaN</td>\n",
       "      <td>NaN</td>\n",
       "      <td>NaN</td>\n",
       "      <td>NaN</td>\n",
       "      <td>NaN</td>\n",
       "      <td>NaN</td>\n",
       "    </tr>\n",
       "    <tr>\n",
       "      <th>597527</th>\n",
       "      <td>NaN</td>\n",
       "      <td>NaN</td>\n",
       "      <td>NaN</td>\n",
       "      <td>NaN</td>\n",
       "      <td>NaN</td>\n",
       "      <td>NaN</td>\n",
       "      <td>NaN</td>\n",
       "      <td>NaN</td>\n",
       "    </tr>\n",
       "  </tbody>\n",
       "</table>\n",
       "</div>"
      ],
      "text/plain": [
       "       Date Address County  Price  Full_Market_Price  VAT_Exclusive  \\\n",
       "597523  NaN     NaN    NaN    NaN                NaN            NaN   \n",
       "597524  NaN     NaN    NaN    NaN                NaN            NaN   \n",
       "597525  NaN     NaN    NaN    NaN                NaN            NaN   \n",
       "597526  NaN     NaN    NaN    NaN                NaN            NaN   \n",
       "597527  NaN     NaN    NaN    NaN                NaN            NaN   \n",
       "\n",
       "       Description_of_Property Property_Size_Description  \n",
       "597523                     NaN                       NaN  \n",
       "597524                     NaN                       NaN  \n",
       "597525                     NaN                       NaN  \n",
       "597526                     NaN                       NaN  \n",
       "597527                     NaN                       NaN  "
      ]
     },
     "execution_count": 4,
     "metadata": {},
     "output_type": "execute_result"
    }
   ],
   "source": [
    "print(\"the last 5 rows of the dataset:\\n\")\n",
    "df.tail()"
   ]
  },
  {
   "cell_type": "markdown",
   "metadata": {},
   "source": [
    "As evident from the provided code, the selected dataset comprises 597,527 rows and 8 columns. Additionally, it's apparent from this initial analysis that the dataset contains missing values. The dimensionality of the dataset, can be confirmed using the Pandas function `shape` that when used it returns a tuple where the first element represents the number of rows (observations) and the second element indicates the number of columns (variables) in the dataset[4]."
   ]
  },
  {
   "cell_type": "code",
   "execution_count": 5,
   "metadata": {},
   "outputs": [
    {
     "name": "stdout",
     "output_type": "stream",
     "text": [
      "The dimensions of the dataset are:\n",
      "\n"
     ]
    },
    {
     "data": {
      "text/plain": [
       "(597528, 8)"
      ]
     },
     "execution_count": 5,
     "metadata": {},
     "output_type": "execute_result"
    }
   ],
   "source": [
    "print('The dimensions of the dataset are:\\n')\n",
    "df.shape"
   ]
  },
  {
   "cell_type": "markdown",
   "metadata": {},
   "source": [
    "To gain further insights into the DataFrame, the `info()` function can be used. This function provides metadata about the DataFrame, including the column names, the count of non-null values in each column, and the data type for each column[5]:"
   ]
  },
  {
   "cell_type": "code",
   "execution_count": 6,
   "metadata": {},
   "outputs": [
    {
     "name": "stdout",
     "output_type": "stream",
     "text": [
      "Find below the full summary of the Dataset:\n",
      "\n",
      "<class 'pandas.core.frame.DataFrame'>\n",
      "RangeIndex: 597528 entries, 0 to 597527\n",
      "Data columns (total 8 columns):\n",
      " #   Column                     Non-Null Count   Dtype  \n",
      "---  ------                     --------------   -----  \n",
      " 0   Date                       596655 non-null  object \n",
      " 1   Address                    596655 non-null  object \n",
      " 2   County                     596655 non-null  object \n",
      " 3   Price                      596655 non-null  float64\n",
      " 4   Full_Market_Price          596644 non-null  float64\n",
      " 5   VAT_Exclusive              596644 non-null  float64\n",
      " 6   Description_of_Property    596644 non-null  object \n",
      " 7   Property_Size_Description  596655 non-null  object \n",
      "dtypes: float64(3), object(5)\n",
      "memory usage: 36.5+ MB\n"
     ]
    }
   ],
   "source": [
    "print('Find below the full summary of the Dataset:\\n')\n",
    "df.info()"
   ]
  },
  {
   "cell_type": "markdown",
   "metadata": {},
   "source": [
    "The analysis of the dataset reveals the following key findings:\n",
    "\n",
    "1. The dataset consists of 8 columns:\n",
    "\n",
    "    - Date\n",
    "    - Address\n",
    "    - County\n",
    "    - Price\n",
    "    - Full_market_price\n",
    "    - VAT_Exclusive\n",
    "    - Description_of_Property\n",
    "    - Property_Size_Description\n",
    "\n",
    "2. It is apparent that there are missing values present in some of the columns.\n",
    "3. The dataset is composed of a mix of data types. Specifically, there are 5 columns with object data types (string of Text or mixed numeric and non-numeric values) and 3 numerical columns(Floating point numbers), which likely contain numeric information[6].\n",
    "\n",
    "The analysis highlights an issue with the \"date\" column being stored as an object data type, which limits its utility for datetime operations. To resolve this, converting the \"date\" column to the datetime64 data type is necessary. The `to_datetime()` function, a part of Pandas, serves this purpose. By using this function, the \"date\" column can be transformed into a format that enables effective datetime operations on the dataset[7]. \n"
   ]
  },
  {
   "cell_type": "code",
   "execution_count": 7,
   "metadata": {},
   "outputs": [
    {
     "name": "stdout",
     "output_type": "stream",
     "text": [
      "<class 'pandas.core.series.Series'>\n",
      "RangeIndex: 597528 entries, 0 to 597527\n",
      "Series name: Date\n",
      "Non-Null Count   Dtype         \n",
      "--------------   -----         \n",
      "596654 non-null  datetime64[ns]\n",
      "dtypes: datetime64[ns](1)\n",
      "memory usage: 4.6 MB\n"
     ]
    },
    {
     "name": "stderr",
     "output_type": "stream",
     "text": [
      "C:\\Users\\fratr\\AppData\\Local\\Temp\\ipykernel_11224\\1810748713.py:2: UserWarning: Parsing dates in %d/%m/%Y format when dayfirst=False (the default) was specified. Pass `dayfirst=True` or specify a format to silence this warning.\n",
      "  df[\"Date\"] = pd.to_datetime(df[\"Date\"], errors='coerce')\n"
     ]
    }
   ],
   "source": [
    "#convert Date into datatimes type\n",
    "df[\"Date\"] = pd.to_datetime(df[\"Date\"], errors='coerce')\n",
    "df[\"Date\"].info()"
   ]
  },
  {
   "cell_type": "markdown",
   "metadata": {},
   "source": [
    "As observed in the previous examination using the tail() function, it became apparent that there are entire rows containing null values in the dataset.To determine the precise count of rows with null values, `isnull()` function can be used. The function identifies and flags the presence of missing or null values in the dataset. This understanding is essential before proceeding with further data analysis and allows for informed decision-making regarding how to handle these null value rows[8]."
   ]
  },
  {
   "cell_type": "code",
   "execution_count": 8,
   "metadata": {},
   "outputs": [
    {
     "data": {
      "text/html": [
       "<div>\n",
       "<style scoped>\n",
       "    .dataframe tbody tr th:only-of-type {\n",
       "        vertical-align: middle;\n",
       "    }\n",
       "\n",
       "    .dataframe tbody tr th {\n",
       "        vertical-align: top;\n",
       "    }\n",
       "\n",
       "    .dataframe thead th {\n",
       "        text-align: right;\n",
       "    }\n",
       "</style>\n",
       "<table border=\"1\" class=\"dataframe\">\n",
       "  <thead>\n",
       "    <tr style=\"text-align: right;\">\n",
       "      <th></th>\n",
       "      <th>Date</th>\n",
       "      <th>Address</th>\n",
       "      <th>County</th>\n",
       "      <th>Price</th>\n",
       "      <th>Full_Market_Price</th>\n",
       "      <th>VAT_Exclusive</th>\n",
       "      <th>Description_of_Property</th>\n",
       "      <th>Property_Size_Description</th>\n",
       "    </tr>\n",
       "  </thead>\n",
       "  <tbody>\n",
       "    <tr>\n",
       "      <th>511</th>\n",
       "      <td>NaT</td>\n",
       "      <td>56 EGLINTON RD, DONNYBROOK, DUBLIN 4</td>\n",
       "      <td>Dublin</td>\n",
       "      <td>3300000.0</td>\n",
       "      <td>0.0</td>\n",
       "      <td>0.0</td>\n",
       "      <td>Second-Hand Dwelling house /Apartment</td>\n",
       "      <td>No Description</td>\n",
       "    </tr>\n",
       "    <tr>\n",
       "      <th>596655</th>\n",
       "      <td>NaT</td>\n",
       "      <td>NaN</td>\n",
       "      <td>NaN</td>\n",
       "      <td>NaN</td>\n",
       "      <td>NaN</td>\n",
       "      <td>NaN</td>\n",
       "      <td>NaN</td>\n",
       "      <td>NaN</td>\n",
       "    </tr>\n",
       "    <tr>\n",
       "      <th>596656</th>\n",
       "      <td>NaT</td>\n",
       "      <td>NaN</td>\n",
       "      <td>NaN</td>\n",
       "      <td>NaN</td>\n",
       "      <td>NaN</td>\n",
       "      <td>NaN</td>\n",
       "      <td>NaN</td>\n",
       "      <td>NaN</td>\n",
       "    </tr>\n",
       "    <tr>\n",
       "      <th>596657</th>\n",
       "      <td>NaT</td>\n",
       "      <td>NaN</td>\n",
       "      <td>NaN</td>\n",
       "      <td>NaN</td>\n",
       "      <td>NaN</td>\n",
       "      <td>NaN</td>\n",
       "      <td>NaN</td>\n",
       "      <td>NaN</td>\n",
       "    </tr>\n",
       "    <tr>\n",
       "      <th>596658</th>\n",
       "      <td>NaT</td>\n",
       "      <td>NaN</td>\n",
       "      <td>NaN</td>\n",
       "      <td>NaN</td>\n",
       "      <td>NaN</td>\n",
       "      <td>NaN</td>\n",
       "      <td>NaN</td>\n",
       "      <td>NaN</td>\n",
       "    </tr>\n",
       "    <tr>\n",
       "      <th>...</th>\n",
       "      <td>...</td>\n",
       "      <td>...</td>\n",
       "      <td>...</td>\n",
       "      <td>...</td>\n",
       "      <td>...</td>\n",
       "      <td>...</td>\n",
       "      <td>...</td>\n",
       "      <td>...</td>\n",
       "    </tr>\n",
       "    <tr>\n",
       "      <th>597523</th>\n",
       "      <td>NaT</td>\n",
       "      <td>NaN</td>\n",
       "      <td>NaN</td>\n",
       "      <td>NaN</td>\n",
       "      <td>NaN</td>\n",
       "      <td>NaN</td>\n",
       "      <td>NaN</td>\n",
       "      <td>NaN</td>\n",
       "    </tr>\n",
       "    <tr>\n",
       "      <th>597524</th>\n",
       "      <td>NaT</td>\n",
       "      <td>NaN</td>\n",
       "      <td>NaN</td>\n",
       "      <td>NaN</td>\n",
       "      <td>NaN</td>\n",
       "      <td>NaN</td>\n",
       "      <td>NaN</td>\n",
       "      <td>NaN</td>\n",
       "    </tr>\n",
       "    <tr>\n",
       "      <th>597525</th>\n",
       "      <td>NaT</td>\n",
       "      <td>NaN</td>\n",
       "      <td>NaN</td>\n",
       "      <td>NaN</td>\n",
       "      <td>NaN</td>\n",
       "      <td>NaN</td>\n",
       "      <td>NaN</td>\n",
       "      <td>NaN</td>\n",
       "    </tr>\n",
       "    <tr>\n",
       "      <th>597526</th>\n",
       "      <td>NaT</td>\n",
       "      <td>NaN</td>\n",
       "      <td>NaN</td>\n",
       "      <td>NaN</td>\n",
       "      <td>NaN</td>\n",
       "      <td>NaN</td>\n",
       "      <td>NaN</td>\n",
       "      <td>NaN</td>\n",
       "    </tr>\n",
       "    <tr>\n",
       "      <th>597527</th>\n",
       "      <td>NaT</td>\n",
       "      <td>NaN</td>\n",
       "      <td>NaN</td>\n",
       "      <td>NaN</td>\n",
       "      <td>NaN</td>\n",
       "      <td>NaN</td>\n",
       "      <td>NaN</td>\n",
       "      <td>NaN</td>\n",
       "    </tr>\n",
       "  </tbody>\n",
       "</table>\n",
       "<p>874 rows × 8 columns</p>\n",
       "</div>"
      ],
      "text/plain": [
       "       Date                               Address  County      Price  \\\n",
       "511     NaT  56 EGLINTON RD, DONNYBROOK, DUBLIN 4  Dublin  3300000.0   \n",
       "596655  NaT                                   NaN     NaN        NaN   \n",
       "596656  NaT                                   NaN     NaN        NaN   \n",
       "596657  NaT                                   NaN     NaN        NaN   \n",
       "596658  NaT                                   NaN     NaN        NaN   \n",
       "...     ...                                   ...     ...        ...   \n",
       "597523  NaT                                   NaN     NaN        NaN   \n",
       "597524  NaT                                   NaN     NaN        NaN   \n",
       "597525  NaT                                   NaN     NaN        NaN   \n",
       "597526  NaT                                   NaN     NaN        NaN   \n",
       "597527  NaT                                   NaN     NaN        NaN   \n",
       "\n",
       "        Full_Market_Price  VAT_Exclusive  \\\n",
       "511                   0.0            0.0   \n",
       "596655                NaN            NaN   \n",
       "596656                NaN            NaN   \n",
       "596657                NaN            NaN   \n",
       "596658                NaN            NaN   \n",
       "...                   ...            ...   \n",
       "597523                NaN            NaN   \n",
       "597524                NaN            NaN   \n",
       "597525                NaN            NaN   \n",
       "597526                NaN            NaN   \n",
       "597527                NaN            NaN   \n",
       "\n",
       "                      Description_of_Property Property_Size_Description  \n",
       "511     Second-Hand Dwelling house /Apartment            No Description  \n",
       "596655                                    NaN                       NaN  \n",
       "596656                                    NaN                       NaN  \n",
       "596657                                    NaN                       NaN  \n",
       "596658                                    NaN                       NaN  \n",
       "...                                       ...                       ...  \n",
       "597523                                    NaN                       NaN  \n",
       "597524                                    NaN                       NaN  \n",
       "597525                                    NaN                       NaN  \n",
       "597526                                    NaN                       NaN  \n",
       "597527                                    NaN                       NaN  \n",
       "\n",
       "[874 rows x 8 columns]"
      ]
     },
     "execution_count": 8,
     "metadata": {},
     "output_type": "execute_result"
    }
   ],
   "source": [
    "#Taking Date Variable as references\n",
    "df[df['Date'].isnull()]"
   ]
  },
  {
   "cell_type": "markdown",
   "metadata": {},
   "source": [
    "Upon analysis, it's evident that the total number of rows containing null values amounts to 873. Given that these rows do not contain any valuable information, the next step involves removing them from the dataset. The function `drop()` is used for this purpose, which eliminates rows based on their index values. Typically, the index value represents a 0-based integer value assigned to each row. By specifying the row index, it can be deleted from the dataset[9]."
   ]
  },
  {
   "cell_type": "code",
   "execution_count": 22,
   "metadata": {},
   "outputs": [
    {
     "data": {
      "text/html": [
       "<div>\n",
       "<style scoped>\n",
       "    .dataframe tbody tr th:only-of-type {\n",
       "        vertical-align: middle;\n",
       "    }\n",
       "\n",
       "    .dataframe tbody tr th {\n",
       "        vertical-align: top;\n",
       "    }\n",
       "\n",
       "    .dataframe thead th {\n",
       "        text-align: right;\n",
       "    }\n",
       "</style>\n",
       "<table border=\"1\" class=\"dataframe\">\n",
       "  <thead>\n",
       "    <tr style=\"text-align: right;\">\n",
       "      <th></th>\n",
       "      <th>Date</th>\n",
       "      <th>Address</th>\n",
       "      <th>County</th>\n",
       "      <th>Price</th>\n",
       "      <th>Full_Market_Price</th>\n",
       "      <th>VAT_Exclusive</th>\n",
       "      <th>Description_of_Property</th>\n",
       "      <th>Property_Size_Description</th>\n",
       "    </tr>\n",
       "  </thead>\n",
       "  <tbody>\n",
       "    <tr>\n",
       "      <th>596650</th>\n",
       "      <td>2018-09-04</td>\n",
       "      <td>65 ST JOSEPH'S PARK, NENAGH, CO TIPPERARY</td>\n",
       "      <td>Tipperary</td>\n",
       "      <td>5080.00</td>\n",
       "      <td>0.0</td>\n",
       "      <td>0.0</td>\n",
       "      <td>Second-Hand Dwelling house /Apartment</td>\n",
       "      <td>No Description</td>\n",
       "    </tr>\n",
       "    <tr>\n",
       "      <th>596651</th>\n",
       "      <td>2014-07-18</td>\n",
       "      <td>CLOGHAN, GLENCOLMCILLE, DONEGAL</td>\n",
       "      <td>Donegal</td>\n",
       "      <td>5079.00</td>\n",
       "      <td>0.0</td>\n",
       "      <td>0.0</td>\n",
       "      <td>Second-Hand Dwelling house /Apartment</td>\n",
       "      <td>No Description</td>\n",
       "    </tr>\n",
       "    <tr>\n",
       "      <th>596652</th>\n",
       "      <td>2012-01-11</td>\n",
       "      <td>Loghnabradden, Fintown, Co. Donegal</td>\n",
       "      <td>Donegal</td>\n",
       "      <td>5079.00</td>\n",
       "      <td>1.0</td>\n",
       "      <td>0.0</td>\n",
       "      <td>Second-Hand Dwelling house /Apartment</td>\n",
       "      <td>No Description</td>\n",
       "    </tr>\n",
       "    <tr>\n",
       "      <th>596653</th>\n",
       "      <td>2019-03-11</td>\n",
       "      <td>COULAGHARD, EYERIES, BEARA</td>\n",
       "      <td>Cork</td>\n",
       "      <td>5030.53</td>\n",
       "      <td>0.0</td>\n",
       "      <td>0.0</td>\n",
       "      <td>Second-Hand Dwelling house /Apartment</td>\n",
       "      <td>No Description</td>\n",
       "    </tr>\n",
       "    <tr>\n",
       "      <th>596654</th>\n",
       "      <td>2023-01-10</td>\n",
       "      <td>14 KNIGHTS PARK, CASTLEBAR, MAYO</td>\n",
       "      <td>Mayo</td>\n",
       "      <td>5001.00</td>\n",
       "      <td>1.0</td>\n",
       "      <td>0.0</td>\n",
       "      <td>Second-Hand Dwelling house /Apartment</td>\n",
       "      <td>No Description</td>\n",
       "    </tr>\n",
       "  </tbody>\n",
       "</table>\n",
       "</div>"
      ],
      "text/plain": [
       "             Date                                    Address     County  \\\n",
       "596650 2018-09-04  65 ST JOSEPH'S PARK, NENAGH, CO TIPPERARY  Tipperary   \n",
       "596651 2014-07-18            CLOGHAN, GLENCOLMCILLE, DONEGAL    Donegal   \n",
       "596652 2012-01-11        Loghnabradden, Fintown, Co. Donegal    Donegal   \n",
       "596653 2019-03-11                 COULAGHARD, EYERIES, BEARA       Cork   \n",
       "596654 2023-01-10           14 KNIGHTS PARK, CASTLEBAR, MAYO       Mayo   \n",
       "\n",
       "          Price  Full_Market_Price  VAT_Exclusive  \\\n",
       "596650  5080.00                0.0            0.0   \n",
       "596651  5079.00                0.0            0.0   \n",
       "596652  5079.00                1.0            0.0   \n",
       "596653  5030.53                0.0            0.0   \n",
       "596654  5001.00                1.0            0.0   \n",
       "\n",
       "                      Description_of_Property Property_Size_Description  \n",
       "596650  Second-Hand Dwelling house /Apartment            No Description  \n",
       "596651  Second-Hand Dwelling house /Apartment            No Description  \n",
       "596652  Second-Hand Dwelling house /Apartment            No Description  \n",
       "596653  Second-Hand Dwelling house /Apartment            No Description  \n",
       "596654  Second-Hand Dwelling house /Apartment            No Description  "
      ]
     },
     "execution_count": 22,
     "metadata": {},
     "output_type": "execute_result"
    }
   ],
   "source": [
    "#using inplace to change the dataset\n",
    "df.drop(df.index[596655:597528], inplace= True)\n",
    "df.tail()"
   ]
  },
  {
   "cell_type": "markdown",
   "metadata": {},
   "source": [
    "The analysis will now shift to examining the missing values within the variables of the dataset. To determine of many missing values exist for each variable the `sum()` function can be chained on the `isnull()`[10]."
   ]
  },
  {
   "cell_type": "code",
   "execution_count": 23,
   "metadata": {},
   "outputs": [
    {
     "name": "stdout",
     "output_type": "stream",
     "text": [
      "The missing values are:\n",
      "\n"
     ]
    },
    {
     "data": {
      "text/plain": [
       "Date                          1\n",
       "Address                       0\n",
       "County                        0\n",
       "Price                         0\n",
       "Full_Market_Price            11\n",
       "VAT_Exclusive                11\n",
       "Description_of_Property      11\n",
       "Property_Size_Description     0\n",
       "dtype: int64"
      ]
     },
     "execution_count": 23,
     "metadata": {},
     "output_type": "execute_result"
    }
   ],
   "source": [
    "print('The missing values are:\\n')\n",
    "df.isnull().sum()"
   ]
  },
  {
   "cell_type": "markdown",
   "metadata": {},
   "source": [
    "The result of this analysis reveals that out of the 8 variables in the dataset, 5 of them contain missing values. Specifically, the \"Date\" variable has 1 missing value, while the \"Full_Market_Price,\" \"VAT_Exclusive,\" and \"Description_of_Property\" variables each have 11 missing values. Indeed, the approach to handling missing values depends on the specific analysis or task at hand. Identifying and understanding the nature of missing data is a critical aspect of data preparation. Depending on the goals of the analysis, various actions can be taken with missing values, including imputation (filling in missing values with estimated or calculated data) or employing data cleaning techniques to ensure the dataset's quality and suitability for the intended analysis[11]."
   ]
  },
  {
   "cell_type": "markdown",
   "metadata": {},
   "source": [
    "#### Statistical information"
   ]
  },
  {
   "cell_type": "markdown",
   "metadata": {},
   "source": [
    "### References\n",
    "\n",
    "[1]: Chugh v., (2023). \"*Python pandas tutorial: The ultimate guide for beginners*\".[Datacamp](https://www.datacamp.com/tutorial/pandas)\n",
    "\n",
    "[2]: Analyseup, (n.d.). \"*Importing Data with Pandas*\". [Analyseup](https://www.analyseup.com/learn-python-for-data-science/python-pandas-importing-data.html)\n",
    "\n",
    "[3]: Shazra H., (2023). \"*head () and tail () Functions Explained with Examples and Codes*\". [Analytics Vidhya](https://www.analyticsvidhya.com/blog/2023/07/head-and-tail-functions/)\n",
    "\n",
    "[4]: Pandas, (n.d.). \"*pandas.DataFrame.shape*\".[Pandas](https://pandas.pydata.org/docs/reference/api/pandas.DataFrame.shape.html)\n",
    "\n",
    "[5]: Rajan S., (2023). \"*Python | Pandas dataframe.info()*\". [geeksforgeeks](https://www.geeksforgeeks.org/python-pandas-dataframe-info/)\n",
    "\n",
    "[6]: Moffitt C., (2018). \"*Overview of Pandas Data Types*\". [Practical Business Python](https://pbpython.com/pandas_dtypes.html#:~:text=An%20object%20is%20a%20string,df)\n",
    "\n",
    "[7]: stackoverflow, (2014). \"*Convert Pandas Column to DateTime*\". [stackoverflow](https://stackoverflow.com/questions/26763344/convert-pandas-column-to-datetime)\n",
    "\n",
    "[8]: Data to Fish, (2021). \"*Select all Rows with NaN Values in Pandas DataFrame*\". [Data to Fish](https://datatofish.com/rows-with-nan-pandas-dataframe/)\n",
    "\n",
    "[9]: Lynn S., (n.d.). \"*Delete Rows & Columns in DataFrames Quickly using Pandas Drop*\".[Shane Lynn](https://www.shanelynn.ie/pandas-drop-delete-dataframe-rows-columns/)\n",
    "\n",
    "[10]: Welck Aj, (n.d.). \"*How to Check If Any Value is NaN in a Pandas DataFrame*\". [Chartio](https://chartio.com/resources/tutorials/how-to-check-if-any-value-is-nan-in-a-pandas-dataframe/)\n",
    "\n",
    "[11]:Shashank S., (2023). \"*Defining, Analysing, and Implementing Imputation Techniques*\". [Analytics Vidhya](https://www.analyticsvidhya.com/blog/2021/06/defining-analysing-and-implementing-imputation-techniques/)"
   ]
  },
  {
   "cell_type": "markdown",
   "metadata": {},
   "source": [
    "### Additional readings"
   ]
  },
  {
   "cell_type": "markdown",
   "metadata": {},
   "source": [
    "- Stackoverflow, (2020). \"*Python how to fix year out of range error*\".[stackoverflow](https://stackoverflow.com/questions/62130640/python-how-to-fix-year-out-of-range-error)\n",
    "- Stackoverflow, (2017). \"*Understanding inplace=True in pandas*\". [Stackoverflow](https://stackoverflow.com/questions/43893457/understanding-inplace-true-in-pandas)"
   ]
  },
  {
   "cell_type": "markdown",
   "metadata": {},
   "source": [
    "***\n",
    "End"
   ]
  }
 ],
 "metadata": {
  "kernelspec": {
   "display_name": "base",
   "language": "python",
   "name": "python3"
  },
  "language_info": {
   "codemirror_mode": {
    "name": "ipython",
    "version": 3
   },
   "file_extension": ".py",
   "mimetype": "text/x-python",
   "name": "python",
   "nbconvert_exporter": "python",
   "pygments_lexer": "ipython3",
   "version": "3.9.13"
  }
 },
 "nbformat": 4,
 "nbformat_minor": 2
}
